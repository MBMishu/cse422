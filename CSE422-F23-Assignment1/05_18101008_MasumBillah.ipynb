{
 "cells": [
  {
   "cell_type": "code",
   "execution_count": 1,
   "metadata": {},
   "outputs": [],
   "source": [
    "distances = {}\n",
    "heuristic_values = {}\n",
    "\n",
    "\n",
    "with open(\"Input file.txt\", \"r\") as file:\n",
    "    lines = file.readlines()\n",
    "    \n",
    "for line in lines:\n",
    "    parts = line.split()\n",
    "    if parts:\n",
    "        city = parts[0]\n",
    "        heuristic = int(parts[1])\n",
    "        heuristic_values[city] = heuristic\n",
    "        for i in range(2, len(parts), 2):\n",
    "            neighbor = parts[i]\n",
    "            distance = int(parts[i + 1])\n",
    "            if city not in distances:\n",
    "                distances[city] = {}\n",
    "            distances[city][neighbor] = distance"
   ]
  },
  {
   "cell_type": "code",
   "execution_count": 2,
   "metadata": {},
   "outputs": [],
   "source": [
    "def astar(distances, start_city, goal_city, heuristic_values):\n",
    "    \n",
    "    open_set = [(0, start_city)]\n",
    "    close_set = set()\n",
    "\n",
    "    \n",
    "    g_score = {city: float('inf') for city in distances}\n",
    "    g_score[start_city] = 0\n",
    "\n",
    "    parents = {}\n",
    "    \n",
    "    while open_set:\n",
    "        current_cost, current_city = min(open_set, key=lambda x: x[0])\n",
    "        open_set.remove((current_cost,current_city))\n",
    "        \n",
    "        if current_city == goal_city:\n",
    "            path = []\n",
    "            while current_city is not None:\n",
    "               path.append(current_city)\n",
    "               current_city = parents.get(current_city)\n",
    "            return path[::-1],current_cost\n",
    "\n",
    "        if current_city in close_set:\n",
    "            continue\n",
    "            \n",
    "        close_set.add(current_city)\n",
    "        \n",
    "        for neighbor_city, cost in distances[current_city].items():\n",
    "            \n",
    "            neighbor_g_score = g_score[current_city] + cost\n",
    "            \n",
    "            \n",
    "            if neighbor_g_score < g_score[neighbor_city]:\n",
    "                parents[neighbor_city] = current_city\n",
    "                g_score[neighbor_city] = neighbor_g_score\n",
    "                f_score = neighbor_g_score + heuristic_values[neighbor_city]\n",
    "                open_set.append((f_score,neighbor_city))\n",
    "                \n",
    "    \n",
    "    return None"
   ]
  },
  {
   "cell_type": "code",
   "execution_count": 3,
   "metadata": {},
   "outputs": [
    {
     "name": "stdout",
     "output_type": "stream",
     "text": [
      "Arad -> Sibiu -> RimnicuVilcea -> Pitesti -> Bucharest\n",
      "Total distance:  418\n"
     ]
    }
   ],
   "source": [
    "\n",
    "start_city = \"Arad\"\n",
    "goal_city = \"Bucharest\"\n",
    "path, total_cost = astar(distances, start_city, goal_city, heuristic_values)\n",
    "if path:\n",
    "    print(\" -> \".join(path))\n",
    "    print(\"Total distance: \",total_cost)\n",
    "else:\n",
    "     print(\"No path found\")\n"
   ]
  },
  {
   "cell_type": "code",
   "execution_count": null,
   "metadata": {},
   "outputs": [],
   "source": []
  },
  {
   "cell_type": "code",
   "execution_count": null,
   "metadata": {},
   "outputs": [],
   "source": []
  }
 ],
 "metadata": {
  "kernelspec": {
   "display_name": "cse422",
   "language": "python",
   "name": "cse422"
  },
  "language_info": {
   "codemirror_mode": {
    "name": "ipython",
    "version": 3
   },
   "file_extension": ".py",
   "mimetype": "text/x-python",
   "name": "python",
   "nbconvert_exporter": "python",
   "pygments_lexer": "ipython3",
   "version": "3.6.13"
  }
 },
 "nbformat": 4,
 "nbformat_minor": 2
}
